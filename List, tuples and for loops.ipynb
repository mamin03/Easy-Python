{
 "cells": [
  {
   "cell_type": "code",
   "execution_count": 33,
   "metadata": {},
   "outputs": [
    {
     "name": "stdout",
     "output_type": "stream",
     "text": [
      "['Nancy', 'Mark', 'Lisa']\n"
     ]
    }
   ],
   "source": [
    "# List, tuples and for loops\n",
    "# Suppose you want to create a variable that carries the names of students in class\n",
    "# How would you do that?\n",
    "students = ['Nancy', 'Mark', 'Lisa']\n",
    "print(students)"
   ]
  },
  {
   "cell_type": "code",
   "execution_count": 34,
   "metadata": {},
   "outputs": [
    {
     "name": "stdout",
     "output_type": "stream",
     "text": [
      "<class 'list'>\n"
     ]
    }
   ],
   "source": [
    "#What is the type of students variable? \n",
    "print(type(students))"
   ]
  },
  {
   "cell_type": "code",
   "execution_count": 35,
   "metadata": {},
   "outputs": [
    {
     "name": "stdout",
     "output_type": "stream",
     "text": [
      "Nancy Lisa\n"
     ]
    }
   ],
   "source": [
    "#How we could access individual elements in the list\n",
    "print(students[0], students[2])\n",
    "# 0 and 2 are the indecis of the elements we are trying to access\n",
    "#so we access the element by \n",
    "#passing its index between square brakets following the list name\n",
    "#remember that the first element has an index of zero not one"
   ]
  },
  {
   "cell_type": "code",
   "execution_count": 36,
   "metadata": {},
   "outputs": [
    {
     "name": "stdout",
     "output_type": "stream",
     "text": [
      "['Ahmed', 'Mark', 'Lisa']\n"
     ]
    }
   ],
   "source": [
    "#How we change an element in the list\n",
    "students[0]='Ahmed'\n",
    "print(students)"
   ]
  },
  {
   "cell_type": "code",
   "execution_count": 39,
   "metadata": {},
   "outputs": [
    {
     "name": "stdout",
     "output_type": "stream",
     "text": [
      "['Ahmed', 'Mark', 'Lisa', 'Nancy', 'Nancy', 'Nancy']\n",
      "6\n"
     ]
    }
   ],
   "source": [
    "#How we can add an element to the array\n",
    "students.append('Nancy')\n",
    "print(students)\n",
    "print(len(students))"
   ]
  },
  {
   "cell_type": "code",
   "execution_count": 40,
   "metadata": {},
   "outputs": [
    {
     "name": "stdout",
     "output_type": "stream",
     "text": [
      "('Isaac', 'Newton')\n"
     ]
    }
   ],
   "source": [
    "#tuple is another type of variables, which allows you to define list of elements\n",
    "name = ('Isaac', 'Newton')\n",
    "print(name)"
   ]
  },
  {
   "cell_type": "code",
   "execution_count": 41,
   "metadata": {},
   "outputs": [
    {
     "name": "stdout",
     "output_type": "stream",
     "text": [
      "Isaac Newton\n"
     ]
    }
   ],
   "source": [
    "#You could access the elements of a tuple the same way you do that with lists\n",
    "print(name[0], name[1])"
   ]
  },
  {
   "cell_type": "code",
   "execution_count": 42,
   "metadata": {},
   "outputs": [
    {
     "ename": "TypeError",
     "evalue": "'tuple' object does not support item assignment",
     "output_type": "error",
     "traceback": [
      "\u001b[0;31m---------------------------------------------------------------------------\u001b[0m",
      "\u001b[0;31mTypeError\u001b[0m                                 Traceback (most recent call last)",
      "\u001b[0;32m<ipython-input-42-ed1d651536c8>\u001b[0m in \u001b[0;36m<module>\u001b[0;34m\u001b[0m\n\u001b[1;32m      1\u001b[0m \u001b[0;31m#but what is the different between tuples and lists?\u001b[0m\u001b[0;34m\u001b[0m\u001b[0;34m\u001b[0m\u001b[0;34m\u001b[0m\u001b[0m\n\u001b[1;32m      2\u001b[0m \u001b[0;31m#lists are mutable whereas tuples are immutable\u001b[0m\u001b[0;34m\u001b[0m\u001b[0;34m\u001b[0m\u001b[0;34m\u001b[0m\u001b[0m\n\u001b[0;32m----> 3\u001b[0;31m \u001b[0mname\u001b[0m\u001b[0;34m[\u001b[0m\u001b[0;36m0\u001b[0m\u001b[0;34m]\u001b[0m\u001b[0;34m=\u001b[0m\u001b[0;34m'Mark'\u001b[0m\u001b[0;34m\u001b[0m\u001b[0;34m\u001b[0m\u001b[0m\n\u001b[0m\u001b[1;32m      4\u001b[0m \u001b[0;31m#so choose tuple when you think you will not need to change the stored data\u001b[0m\u001b[0;34m\u001b[0m\u001b[0;34m\u001b[0m\u001b[0;34m\u001b[0m\u001b[0m\n\u001b[1;32m      5\u001b[0m \u001b[0;31m#first and last names of a student are unlikely to change\u001b[0m\u001b[0;34m\u001b[0m\u001b[0;34m\u001b[0m\u001b[0;34m\u001b[0m\u001b[0m\n",
      "\u001b[0;31mTypeError\u001b[0m: 'tuple' object does not support item assignment"
     ]
    }
   ],
   "source": [
    "#but what is the different between tuples and lists?\n",
    "#lists are mutable whereas tuples are immutable\n",
    "name[0]='Mark'\n",
    "#so choose tuple when you think you will not need to change the stored data\n",
    "#first and last names of a student are unlikely to change "
   ]
  },
  {
   "cell_type": "code",
   "execution_count": 49,
   "metadata": {},
   "outputs": [
    {
     "name": "stdout",
     "output_type": "stream",
     "text": [
      "Student Name ('Isaa', 'Newton') Physics Grade 100 English Grade 80\n",
      "Student Name Isaa Newton Physics Grade 100 English Grade 80\n"
     ]
    }
   ],
   "source": [
    "#now to explain loops, we will do that with examples\n",
    "students = [('Isaa','Newton'),('Mark', 'Twain'), ('Mike','Kupper'), ('Nancy','Frank')]\n",
    "physics_grades = [100, 40,70, 90]\n",
    "English_grades = [80, 100, 50, 70]\n",
    "#Now I want to print for each student the first, last names and grads\n",
    "print('Student Name', students[0], 'Physics Grade', physics_grades[0], \n",
    "      'English Grade', English_grades[0])\n",
    "#let's print the first and last name in a nicer way\n",
    "print('Student Name', students[0][0], students[0][1], 'Physics Grade', physics_grades[0], \n",
    "      'English Grade', English_grades[0])"
   ]
  },
  {
   "cell_type": "code",
   "execution_count": 43,
   "metadata": {},
   "outputs": [
    {
     "name": "stdout",
     "output_type": "stream",
     "text": [
      "Student Name A h Physics Grade 100 English Grade 80\n"
     ]
    }
   ],
   "source": [
    "#Let's create a variable that carry the index of the element we want to access\n",
    "i = 0\n",
    "print('Student Name', students[i][0], students[i][1], 'Physics Grade', physics_grades[i], \n",
    "      'English Grade', English_grades[i])"
   ]
  },
  {
   "cell_type": "code",
   "execution_count": 47,
   "metadata": {},
   "outputs": [
    {
     "name": "stdout",
     "output_type": "stream",
     "text": [
      "0\n",
      "1\n",
      "2\n",
      "3\n"
     ]
    }
   ],
   "source": [
    "# now I want the computer to automatically change this index\n",
    "#this is done through loops\n",
    "for i in range(4):\n",
    "    print(i)\n",
    "\n",
    "#please note the indentation\n",
    "#please note that i starts at zero and ends at 3"
   ]
  },
  {
   "cell_type": "code",
   "execution_count": 28,
   "metadata": {},
   "outputs": [
    {
     "name": "stdout",
     "output_type": "stream",
     "text": [
      "Student Name Isaa Newton Physics Grade 100 English Grade 80\n",
      "Student Name Mark Twain Physics Grade 40 English Grade 100\n",
      "Student Name Mike Kupper Physics Grade 70 English Grade 50\n",
      "Student Name Nancy Frank Physics Grade 90 English Grade 70\n"
     ]
    }
   ],
   "source": [
    "# now I want the computer to automatically change this index\n",
    "#this is done through loops\n",
    "for i in range(4):\n",
    "    print('Student Name', students[i][0], students[i][1], 'Physics Grade', physics_grades[i], \n",
    "      'English Grade', English_grades[i])\n",
    "#please not the indentation"
   ]
  },
  {
   "cell_type": "code",
   "execution_count": 29,
   "metadata": {},
   "outputs": [
    {
     "name": "stdout",
     "output_type": "stream",
     "text": [
      "0 Student Name Isaa Newton Physics Grade 100 English Grade 80\n",
      "1 Student Name Mark Twain Physics Grade 40 English Grade 100\n",
      "2 Student Name Mike Kupper Physics Grade 70 English Grade 50\n",
      "3 Student Name Nancy Frank Physics Grade 90 English Grade 70\n"
     ]
    }
   ],
   "source": [
    "# i starts at zero and ends at 3\n",
    "for i in range(4):\n",
    "    print(i, 'Student Name', students[i][0], students[i][1], 'Physics Grade', physics_grades[i], \n",
    "      'English Grade', English_grades[i])"
   ]
  },
  {
   "cell_type": "code",
   "execution_count": 52,
   "metadata": {},
   "outputs": [
    {
     "name": "stdout",
     "output_type": "stream",
     "text": [
      "('Isaa', 'Newton')\n",
      "('Mark', 'Twain')\n",
      "('Mike', 'Kupper')\n",
      "('Nancy', 'Frank')\n",
      "('Isaa', 'Newton')\n",
      "('Mark', 'Twain')\n",
      "('Mike', 'Kupper')\n",
      "('Nancy', 'Frank')\n"
     ]
    }
   ],
   "source": [
    "#another way to loop over elements in for loops is\n",
    "students = [('Isaa','Newton'),('Mark', 'Twain'), ('Mike','Kupper'), ('Nancy','Frank')]\n",
    "physics_grades = [100, 40,70, 90]\n",
    "English_grades = [80, 100, 50, 70]\n",
    "#i is a tuple\n",
    "for i in students:\n",
    "    print(i)\n",
    "#i is an index\n",
    "for i in range(4):\n",
    "    print(students[i])\n",
    "#i now is not an index, i is an object (tuple) that is chaning each iteration"
   ]
  },
  {
   "cell_type": "code",
   "execution_count": 31,
   "metadata": {},
   "outputs": [
    {
     "name": "stdout",
     "output_type": "stream",
     "text": [
      "Student Name Isaa Newton Physics Grade 100 English Grade 80\n",
      "Student Name Mark Twain Physics Grade 40 English Grade 100\n",
      "Student Name Mike Kupper Physics Grade 70 English Grade 50\n",
      "Student Name Nancy Frank Physics Grade 90 English Grade 70\n"
     ]
    }
   ],
   "source": [
    "#but we want to loop over several list\n",
    "for i,j,k in zip(students, physics_grades, English_grades):\n",
    "    print('Student Name', i[0], i[1], 'Physics Grade', j, \n",
    "      'English Grade', k)"
   ]
  },
  {
   "cell_type": "code",
   "execution_count": null,
   "metadata": {},
   "outputs": [],
   "source": []
  }
 ],
 "metadata": {
  "kernelspec": {
   "display_name": "Python 3",
   "language": "python",
   "name": "python3"
  },
  "language_info": {
   "codemirror_mode": {
    "name": "ipython",
    "version": 3
   },
   "file_extension": ".py",
   "mimetype": "text/x-python",
   "name": "python",
   "nbconvert_exporter": "python",
   "pygments_lexer": "ipython3",
   "version": "3.7.3"
  }
 },
 "nbformat": 4,
 "nbformat_minor": 4
}
