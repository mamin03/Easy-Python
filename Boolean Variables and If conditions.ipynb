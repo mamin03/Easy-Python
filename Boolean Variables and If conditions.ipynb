{
 "cells": [
  {
   "cell_type": "code",
   "execution_count": 70,
   "metadata": {},
   "outputs": [
    {
     "name": "stdout",
     "output_type": "stream",
     "text": [
      "True\n"
     ]
    }
   ],
   "source": [
    "#Boolean variables could only carry the value of True or False\n",
    "#Last time we gave an example about the GPA of students\n",
    "#Some subjects don't have grades, they only have pass or fail\n",
    "#Boolean variables are appropiate for this kind of data\n",
    "Pass = True\n",
    "\n",
    "print(Pass)"
   ]
  },
  {
   "cell_type": "code",
   "execution_count": 71,
   "metadata": {},
   "outputs": [
    {
     "name": "stdout",
     "output_type": "stream",
     "text": [
      "False\n"
     ]
    }
   ],
   "source": [
    "Pass = False\n",
    "print(Pass)"
   ]
  },
  {
   "cell_type": "code",
   "execution_count": 80,
   "metadata": {},
   "outputs": [
    {
     "name": "stdout",
     "output_type": "stream",
     "text": [
      "True\n",
      "False\n",
      "True\n",
      "False\n",
      "False\n"
     ]
    }
   ],
   "source": [
    "#Computer responds to your question with boolean answers\n",
    "#Example:\n",
    "print(10>5)\n",
    "print(5>10)\n",
    "#If you want to ask the computer if two objects are equal\n",
    "#You have to you double equal sign. Single equal sign is used for assignment \n",
    "x = 1\n",
    "print(x==1)\n",
    "print(x==2)\n",
    "x=10\n",
    "y= x+1-1\n",
    "print(x!=y)"
   ]
  },
  {
   "cell_type": "code",
   "execution_count": 86,
   "metadata": {},
   "outputs": [
    {
     "name": "stdout",
     "output_type": "stream",
     "text": [
      "I'm inside the if condition\n"
     ]
    }
   ],
   "source": [
    "#Boolean variables are more meaningful with if condition\n",
    "#What is if conditions?\n",
    "#You are telling the computer to perform some instructions\n",
    "#only if some condition is satisfied, for example\n",
    "Pass = True\n",
    "if Pass == False:  # here you are asking the computer if Pass is True\n",
    "    print(\"Fifa passed the exam\") # if so then print this statement\n",
    "print(\"I'm inside the if condition\")\n",
    "#Otherwise don't do anything\n",
    "#Note that the line that followed the if line is shifted toward the right\n",
    "#This indentation define the scope of the if condition"
   ]
  },
  {
   "cell_type": "code",
   "execution_count": 88,
   "metadata": {},
   "outputs": [
    {
     "name": "stdout",
     "output_type": "stream",
     "text": [
      "Fifa failed\n"
     ]
    }
   ],
   "source": [
    "Pass = False\n",
    "if Pass == True:  # here you are asking the computer if Pass is True\n",
    "    print(\"Fifa passed the exam\") # if so then print this statement\n",
    "else: #Otherwise print Fifa failed\n",
    "    print(\"Fifa failed\")\n"
   ]
  },
  {
   "cell_type": "code",
   "execution_count": 92,
   "metadata": {},
   "outputs": [
    {
     "name": "stdout",
     "output_type": "stream",
     "text": [
      "The type of gpa variable <class 'float'>\n",
      "INC\n"
     ]
    }
   ],
   "source": [
    "#You may need to have more than 2 options, for example:\n",
    "gpa = 0.\n",
    "print(\"The type of gpa variable\", type(gpa))\n",
    "if gpa>=3.6:\n",
    "    print(\"A\")\n",
    "elif gpa<3.6 and gpa>=3.2:\n",
    "    print(\"B\")\n",
    "elif gpa<3.2 and gpa>=2.5:\n",
    "    print(\"C\")\n",
    "elif gpa<2.5 and gpa>=2.0:\n",
    "    print(\"D\")\n",
    "elif gpa==-1 or gpa==0.:\n",
    "    print(\"INC\")\n",
    "else:\n",
    "    print(\"F\")\n",
    "\n"
   ]
  },
  {
   "cell_type": "code",
   "execution_count": 95,
   "metadata": {},
   "outputs": [
    {
     "name": "stdout",
     "output_type": "stream",
     "text": [
      "I'm going to California\n"
     ]
    }
   ],
   "source": [
    "#Nested if conditions:\n",
    "#Example, a car driver has two options\n",
    "#1- to drive east \n",
    "#2- to drive west\n",
    "#if he drove east he will have 2 options:\n",
    "#1-drive north, then it means he is going to New York\n",
    "#2-drive south, then it means he is going to Florida\n",
    "#if he drove west, then he is going to California \n",
    "#How to implement this:\n",
    "\n",
    "first_direction='west'\n",
    "second_direction='south'\n",
    "\n",
    "if first_direction=='east':\n",
    "    if second_direction=='north':\n",
    "        print(\"I'm going to New York\")\n",
    "    elif second_direction=='south':\n",
    "        print(\"I'm going to Florida\")\n",
    "else:\n",
    "    print(\"I'm going to California\")\n"
   ]
  },
  {
   "cell_type": "code",
   "execution_count": null,
   "metadata": {},
   "outputs": [],
   "source": []
  }
 ],
 "metadata": {
  "kernelspec": {
   "display_name": "Python 3",
   "language": "python",
   "name": "python3"
  },
  "language_info": {
   "codemirror_mode": {
    "name": "ipython",
    "version": 3
   },
   "file_extension": ".py",
   "mimetype": "text/x-python",
   "name": "python",
   "nbconvert_exporter": "python",
   "pygments_lexer": "ipython3",
   "version": "3.7.3"
  }
 },
 "nbformat": 4,
 "nbformat_minor": 4
}
