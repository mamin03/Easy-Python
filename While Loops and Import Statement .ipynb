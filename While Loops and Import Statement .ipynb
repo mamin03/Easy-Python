{
 "cells": [
  {
   "cell_type": "code",
   "execution_count": 12,
   "metadata": {},
   "outputs": [
    {
     "name": "stdout",
     "output_type": "stream",
     "text": [
      "the available items in stock 10\n",
      "the available items in stock 9\n",
      "the available items in stock 8\n",
      "the available items in stock 7\n",
      "the available items in stock 6\n",
      "the available items in stock 5\n",
      "the available items in stock 4\n",
      "the available items in stock 3\n",
      "the available items in stock 2\n",
      "the available items in stock 1\n",
      "no stock available\n"
     ]
    }
   ],
   "source": [
    "#Sometimes you don't know when your loop will end\n",
    "#In this case the for loop is not appropiate and you will need the while\n",
    "stock = 10\n",
    "while(stock>0):\n",
    "    print('the available items in stock', stock)\n",
    "    stock = stock - 1\n",
    "else:\n",
    "    print('no stock available')"
   ]
  },
  {
   "cell_type": "code",
   "execution_count": 13,
   "metadata": {},
   "outputs": [
    {
     "name": "stdout",
     "output_type": "stream",
     "text": [
      "Player 1 scored\n",
      "Player 2 scored\n",
      "Player 1 scored\n",
      "Player 2 scored\n"
     ]
    }
   ],
   "source": [
    "#Now I want to design a game where 2 players play rolling dice\n",
    "#The winner is the first player who gets 2 \"6\"\n",
    "#Because rolling dice is a random process, we need to\n",
    "#Generate a random number between 1 and 6 for each player\n",
    "#To do that in python we need to use an external function\n",
    "#The keyword import allows us to use external function\n",
    "from random import randint\n",
    "count_6_player1 = 0\n",
    "count_6_player2 = 0\n",
    "while(count_6_player1 !=2 and count_6_player2!=2):\n",
    "    player1 = randint(1, 6)\n",
    "    player2 = randint(1, 6)\n",
    "    if player1 == 6:\n",
    "        count_6_player1 = count_6_player1 + 1\n",
    "        print(\"Player 1 scored\")\n",
    "    if player2 == 6:\n",
    "        count_6_player2 = count_6_player2 + 1\n",
    "        print(\"Player 2 scored\")    \n",
    "    "
   ]
  },
  {
   "cell_type": "code",
   "execution_count": 14,
   "metadata": {},
   "outputs": [
    {
     "name": "stdout",
     "output_type": "stream",
     "text": [
      "player one 2 player two 5\n",
      "player one 3 player two 4\n",
      "player one 3 player two 2\n",
      "player one 1 player two 2\n",
      "player one 2 player two 2\n",
      "player one 5 player two 5\n",
      "player one 5 player two 5\n",
      "player one 4 player two 2\n",
      "player one 5 player two 5\n",
      "player one 6 player two 2\n",
      "Player 1 scored\n",
      "player one 1 player two 4\n",
      "player one 4 player two 5\n",
      "player one 1 player two 4\n",
      "player one 5 player two 6\n",
      "Player 2 scored\n",
      "player one 3 player two 3\n",
      "player one 4 player two 4\n",
      "player one 4 player two 3\n",
      "player one 3 player two 3\n",
      "player one 1 player two 3\n",
      "player one 3 player two 2\n",
      "player one 6 player two 3\n",
      "Player 1 scored\n",
      "Game over after 21 trials\n"
     ]
    }
   ],
   "source": [
    "from random import randint\n",
    "count_6_player1 = 0\n",
    "count_6_player2 = 0\n",
    "trials = 0\n",
    "while(count_6_player1 !=2 and count_6_player2!=2):\n",
    "    trials+=1\n",
    "    player1 = randint(1, 6)\n",
    "    player2 = randint(1, 6)\n",
    "    print('player one', player1, 'player two', player2)\n",
    "    if player1 == 6:\n",
    "        count_6_player1 = count_6_player1 + 1\n",
    "        print(\"Player 1 scored\")\n",
    "    if player2 == 6:\n",
    "        count_6_player2 = count_6_player2 + 1\n",
    "        print(\"Player 2 scored\")    \n",
    "print('Game over after',trials,'trials')"
   ]
  },
  {
   "cell_type": "code",
   "execution_count": null,
   "metadata": {},
   "outputs": [],
   "source": []
  }
 ],
 "metadata": {
  "kernelspec": {
   "display_name": "Python 3",
   "language": "python",
   "name": "python3"
  },
  "language_info": {
   "codemirror_mode": {
    "name": "ipython",
    "version": 3
   },
   "file_extension": ".py",
   "mimetype": "text/x-python",
   "name": "python",
   "nbconvert_exporter": "python",
   "pygments_lexer": "ipython3",
   "version": "3.7.3"
  }
 },
 "nbformat": 4,
 "nbformat_minor": 4
}
